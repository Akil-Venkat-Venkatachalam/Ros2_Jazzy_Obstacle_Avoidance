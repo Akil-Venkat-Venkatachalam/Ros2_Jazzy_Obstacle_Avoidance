{
  "nbformat": 4,
  "nbformat_minor": 0,
  "metadata": {
    "colab": {
      "provenance": []
    },
    "kernelspec": {
      "name": "python3",
      "display_name": "Python 3"
    },
    "language_info": {
      "name": "python"
    }
  },
  "cells": [
    {
      "cell_type": "markdown",
      "source": [
        "# Obstacle Avoidance Simulation\n",
        "\n",
        "### THE FOLLOWING EXERCISE WAS GIVEN AS A PART OF THE COURSE IN THE CONSTRUCT AI"
      ],
      "metadata": {
        "id": "OjIFziIME6Gm"
      }
    },
    {
      "cell_type": "markdown",
      "source": [
        "Write a Publisher and Subscriber node:\n",
        "\n",
        "Create a new ROS2 package named robot_patrol and add rclpy, std_msgs, sensor_msgs, and geometry_msgs as dependencies.\n",
        "Use the previous publisher to create a new code that makes the robot avoid obstacles while continuously moving around the office. This behavior is kwown as patrol behavior.\n",
        "Get the real-time data from the laser and decide the robot's movement based on it. An example logic would be the following:\n",
        "\n",
        "If the distance to the detected obstacle is bigger than the distance thresholds, just keep the robot moving forward\n",
        "If the distance to the detected obstacle is smaller than a certain threshold (ie. 0.15m) in either side (right or left) of the robot, you need to make the robot turn to the opposite direction in order to move away from it\n",
        "If the distance to the detected obstacle is smaller than a certain threshold (ie. 0.55m) in front of the robot, you need to rotate the robot to the direction (right or left) which is more clear of obstacles.\n",
        "\n",
        "Hint: Use the following ranges:-\n",
        "\n",
        "right_side = msg.ranges[2246]\n",
        "\\\n",
        "front = msg.ranges[0]\n",
        "\\\n",
        "left_side = msg.ranges[748]\n",
        "\n",
        "Create the launch file and test your program!"
      ],
      "metadata": {
        "id": "JMvYcKsvE1nx"
      }
    },
    {
      "cell_type": "markdown",
      "source": [
        "### 1. Create a workspace called \"ros2_ws\""
      ],
      "metadata": {
        "id": "WvG9TLEuGo8N"
      }
    },
    {
      "cell_type": "code",
      "source": [
        "# SHELL:\n",
        "\n",
        "mkdir -p ~/ros2_ws/src"
      ],
      "metadata": {
        "id": "Fj30LHZSGoCY"
      },
      "execution_count": null,
      "outputs": []
    },
    {
      "cell_type": "markdown",
      "source": [
        "### 2. Create a package called as \"ob_avoid_pkg\""
      ],
      "metadata": {
        "id": "JN33XxW-GN6M"
      }
    },
    {
      "cell_type": "code",
      "source": [
        "# SHELL:\n",
        "\n",
        "cd src # move to the 'src' folder\n",
        "\n",
        "ros2 pkg create --build-type ament_python ob_avoid_pkg --dependencies rclpy std_msgs sensor_msgs geometry_msgs\n",
        "# create a new package"
      ],
      "metadata": {
        "id": "N5L0JT3-Fx6B"
      },
      "execution_count": null,
      "outputs": []
    },
    {
      "cell_type": "markdown",
      "source": [
        "### 3. Create a '.py' file\n",
        "Create a file named as 'code.py' in the 'ob_avoid_pkg' folder next to the 'init.py' file."
      ],
      "metadata": {
        "id": "psojnp-kE4hM"
      }
    },
    {
      "cell_type": "code",
      "source": [
        "# CODE TERMINAL\n",
        "# code.py\n",
        "\n",
        "#!/usr/bin/env python3\n",
        "\n",
        "import rclpy\n",
        "from rclpy.node import Node\n",
        "from geometry_msgs.msg import TwistStamped\n",
        "from sensor_msgs.msg import LaserScan\n",
        "\n",
        "class Obavoid(Node):\n",
        "\n",
        "    def __init__(self):\n",
        "        super().__init__('obavoid_node')\n",
        "\n",
        "        # Create a subscription to laser scan data\n",
        "        self.scan_sub = self.create_subscription(\n",
        "            LaserScan,\n",
        "            'scan',\n",
        "            self.laser_callback,\n",
        "            10)\n",
        "\n",
        "        # Create a publisher for publishing velocity commands\n",
        "        self.cmd_pub = self.create_publisher(\n",
        "            TwistStamped,\n",
        "            '/rosbot_xl_base_controller/cmd_vel',\n",
        "            5)\n",
        "\n",
        "        # Create a timer for controlling the robot's movement\n",
        "        self.control_timer = self.create_timer(\n",
        "            0.5,  # 500 ms\n",
        "            self.motion)\n",
        "\n",
        "        # Initialize the velocity command message\n",
        "        self.cmd = TwistStamped()\n",
        "        self.cmd.twist.linear.x = 0.0\n",
        "        self.cmd.twist.angular.z = 0.0\n",
        "\n",
        "        # Constants for distance thresholds\n",
        "        self.min_distance = 0.55\n",
        "        self.side_threshold = 0.15\n",
        "\n",
        "        # Initialize variables for laser scan data\n",
        "        self.left_side = 0.0\n",
        "        self.front = 0.0\n",
        "        self.right_side = 0.0\n",
        "\n",
        "\n",
        "    def laser_callback(self, msg: LaserScan):\n",
        "        # Process laser scan data and extract  values for different sections\n",
        "        # of the robot's surroundings\n",
        "        self.right_side = msg.ranges[2246]\n",
        "        self.front = msg.ranges[0]\n",
        "        self.left_side = msg.ranges[748]\n",
        "        self.get_logger().info('I receive: \"%s\"' % str(self.front))\n",
        "\n",
        "\n",
        "    def motion(self):\n",
        "        # Control the robot's movement based on laser scan data\n",
        "\n",
        "        linear_vel = 0.5\n",
        "\n",
        "        # Determine robot's movement based on obstacle detection\n",
        "        if self.left_side < self.side_threshold and self.front > self.min_distance:\n",
        "            self.get_logger().warning('Reduce speed and turn!!')\n",
        "            self.cmd.twist.linear.x = linear_vel * 0.5\n",
        "            self.cmd.twist.angular.z = -0.15\n",
        "        elif self.right_side < self.side_threshold and self.front > self.min_distance:\n",
        "            self.get_logger().warning('Reduce speed and turn!!')\n",
        "            self.cmd.twist.linear.x = linear_vel * 0.5\n",
        "            self.cmd.twist.angular.z = 0.15\n",
        "        elif self.front > self.min_distance:\n",
        "            self.get_logger().info('Moving forward!!')\n",
        "            self.cmd.twist.linear.x = linear_vel\n",
        "            self.cmd.twist.angular.z = 0.0\n",
        "        elif self.front < self.min_distance:\n",
        "            self.get_logger().error('Stop and rotate!!')\n",
        "            if self.compare_sides(self.left_side, self.right_side):\n",
        "                self.cmd.twist.linear.x = linear_vel * 0.25\n",
        "                self.cmd.twist.angular.z = 0.35\n",
        "            else:\n",
        "                self.cmd.twist.linear.x = linear_vel * 0.25\n",
        "                self.cmd.twist.angular.z = -0.35\n",
        "\n",
        "        # Publish velocity command\n",
        "        self.cmd_pub.publish(self.cmd)\n",
        "\n",
        "    def compare_sides(self, left, right):\n",
        "        # Compare distances sensed on left and right sides\n",
        "        return left >= right\n",
        "\n",
        "\n",
        "def main(args=None):\n",
        "    # Initialize ROS2 node\n",
        "    rclpy.init(args=args)\n",
        "\n",
        "    # Create an instance of the Patrol class\n",
        "    obavoid_node = Obavoid()\n",
        "\n",
        "    try:\n",
        "        # Spin the node to handle callbacks\n",
        "        rclpy.spin(obavoid_node)\n",
        "    except KeyboardInterrupt:\n",
        "        pass\n",
        "    finally:\n",
        "        # Shutdown ROS2 node\n",
        "        obavoid_node.destroy_node()\n",
        "        rclpy.shutdown()\n",
        "\n",
        "\n",
        "if __name__ == '__main__':\n",
        "    main()\n",
        "\n"
      ],
      "metadata": {
        "id": "vWZTHqXjIOvA"
      },
      "execution_count": null,
      "outputs": []
    },
    {
      "cell_type": "markdown",
      "source": [
        "### 4. Create the Launch File in th Launch folder"
      ],
      "metadata": {
        "id": "MSCrEIp0JfzU"
      }
    },
    {
      "cell_type": "code",
      "source": [
        "# SHELL:\n",
        "\n",
        "cd ~/ros2_ws/src/ob_avoid_pkg\n",
        "mkdir launch\n",
        "\n",
        "cd ~/ros2_ws/src/ob_avoid_pkg/launch\n",
        "touch launch_node.launch.py\n"
      ],
      "metadata": {
        "id": "b7DPdcu7Jnqx"
      },
      "execution_count": null,
      "outputs": []
    },
    {
      "cell_type": "markdown",
      "source": [
        "### 5. Fillup the launch file"
      ],
      "metadata": {
        "id": "RAYCsPraKITw"
      }
    },
    {
      "cell_type": "code",
      "source": [
        "# CODE TERMINAL\n",
        "# launch_node.launch.py\n",
        "\n",
        "from launch import LaunchDescription\n",
        "from launch_ros.actions import Node\n",
        "\n",
        "def generate_launch_description():\n",
        "    return LaunchDescription([\n",
        "        Node(\n",
        "            package='ob_avoid_pkg',\n",
        "            executable='exe',\n",
        "            output='screen',\n",
        "            emulate_tty=True\n",
        "        ),\n",
        "    ])"
      ],
      "metadata": {
        "id": "kYfokWfMKNml"
      },
      "execution_count": null,
      "outputs": []
    },
    {
      "cell_type": "markdown",
      "source": [
        "### 6. Modify the setup"
      ],
      "metadata": {
        "id": "gT3fohkxKkZE"
      }
    },
    {
      "cell_type": "code",
      "source": [
        "# CODE TERMINAL\n",
        "# setup.py\n",
        "\n",
        "from setuptools import find_packages, setup\n",
        "import os\n",
        "from glob import glob\n",
        "\n",
        "package_name = 'ob_avoid_pkg'\n",
        "\n",
        "setup(\n",
        "    name=package_name,\n",
        "    version='0.0.0',\n",
        "    packages=find_packages(exclude=['test']),\n",
        "    data_files=[\n",
        "        ('share/ament_index/resource_index/packages',\n",
        "            ['resource/' + package_name]),\n",
        "        ('share/' + package_name, ['package.xml']),\n",
        "        (os.path.join('share', package_name), glob('launch/*.launch.py'))\n",
        "    ],\n",
        "    install_requires=['setuptools'],\n",
        "    zip_safe=True,\n",
        "    maintainer='user',\n",
        "    maintainer_email='user@todo.todo',\n",
        "    description='TODO: Package description',\n",
        "    license='TODO: License declaration',\n",
        "    tests_require=['pytest'],\n",
        "    entry_points={\n",
        "        'console_scripts': [\n",
        "            'exe = ob_avoid_pkg.code:main'\n",
        "        ],\n",
        "    },\n",
        ")"
      ],
      "metadata": {
        "id": "Zf_4cpVyKnkN"
      },
      "execution_count": null,
      "outputs": []
    },
    {
      "cell_type": "markdown",
      "source": [
        "### 7. Compile the  package"
      ],
      "metadata": {
        "id": "8IQS0gqlK9k9"
      }
    },
    {
      "cell_type": "code",
      "source": [
        "cd ~/ros2_ws\n",
        "colcon build --packages-select ob_avoid_pkg\n",
        "source ~/ros2_ws/install/setup.bash"
      ],
      "metadata": {
        "id": "cUZZ60FNLD_P"
      },
      "execution_count": null,
      "outputs": []
    },
    {
      "cell_type": "markdown",
      "source": [
        "### 8. launch the package"
      ],
      "metadata": {
        "id": "pLtKGMAcLJ5C"
      }
    },
    {
      "cell_type": "code",
      "source": [
        "ros2 launch robot_patrol start_patrolling.launch.py"
      ],
      "metadata": {
        "id": "VQuFGqrGLPMY"
      },
      "execution_count": null,
      "outputs": []
    },
    {
      "cell_type": "markdown",
      "source": [
        "# Result\n",
        "\n",
        "#### we get the following result in the simulation window :\n",
        "\n",
        "*   Robot proceeds forward if the detected obstacle is more than 0.55 meters in front of the robot.\n",
        "\n",
        "\n",
        "*   The robot should turn in the opposite direction in order to move away from the detected obstacle if it is less than 0.15 meters from either the robot's right or left side.\n",
        "\n",
        "*   The robot spins to the left or right, whatever is more obstacle-free, if the identified obstruction is less than 0.55 meters in front of the robot.\n",
        "\n",
        "\n",
        "\n",
        "\n"
      ],
      "metadata": {
        "id": "5NpeV15PLxO1"
      }
    }
  ]
}